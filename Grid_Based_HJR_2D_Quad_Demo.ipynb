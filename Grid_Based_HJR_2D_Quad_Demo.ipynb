{
  "cells": [
    {
      "cell_type": "code",
      "execution_count": 4,
      "metadata": {
        "colab": {
          "base_uri": "https://localhost:8080/"
        },
        "id": "XdpoWiOvPMMF",
        "outputId": "9d81aaff-5c97-4dc4-b28f-3715ed6f8b5b"
      },
      "outputs": [
        {
          "name": "stdout",
          "output_type": "stream",
          "text": [
            "JAX 0.4.26 using: [CpuDevice(id=0), CpuDevice(id=1), CpuDevice(id=2), CpuDevice(id=3), CpuDevice(id=4), CpuDevice(id=5), CpuDevice(id=6), CpuDevice(id=7)]\n"
          ]
        }
      ],
      "source": [
        "import os\n",
        "import sys\n",
        "\n",
        "# Remove any conflicting env vars\n",
        "os.environ.pop(\"JAX_METAL_ENABLE\", None)  # Remove Metal flag if present\n",
        "os.environ.pop(\"ENABLE_PJRT_COMPATIBILITY\", None)\n",
        "\n",
        "# Set CPU as ONLY platform - more aggressive approach\n",
        "os.environ[\"JAX_PLATFORMS\"] = \"cpu\"\n",
        "os.environ[\"XLA_FLAGS\"] = \"--xla_force_host_platform_device_count=8\"\n",
        "\n",
        "# Most important: Clean module cache to force reinitialization\n",
        "if \"jax\" in sys.modules:\n",
        "    del sys.modules[\"jax\"]\n",
        "if \"jaxlib\" in sys.modules:\n",
        "    del sys.modules[\"jaxlib\"]\n",
        "\n",
        "# Now import JAX - it will use these settings\n",
        "import jax\n",
        "import jax.numpy as jnp\n",
        "jax.config.update(\"jax_enable_x64\", True)\n",
        "\n",
        "# Verify CPU is being used (should show TFRT_CPU devices)\n",
        "devices = jax.devices()\n",
        "print(f\"JAX {jax.__version__} using: {devices}\")\n",
        "if any(\"metal\" in str(d).lower() for d in devices):\n",
        "    raise RuntimeError(\"Still using Metal! Need to restart kernel completely.\")\n",
        "\n",
        "# Import remaining packages\n",
        "import numpy as np\n",
        "import hj_reachability as hj"
      ]
    },
    {
      "cell_type": "code",
      "execution_count": 5,
      "metadata": {},
      "outputs": [],
      "source": [
        "import jax\n",
        "import jax.numpy as jnp\n",
        "import numpy as np\n",
        "import hj_reachability as hj"
      ]
    },
    {
      "cell_type": "markdown",
      "metadata": {
        "id": "diluvgMcPYdy"
      },
      "source": [
        "First, we define our 2D drone system."
      ]
    },
    {
      "cell_type": "code",
      "execution_count": 6,
      "metadata": {
        "id": "JvH-OP_LPV1k"
      },
      "outputs": [],
      "source": [
        "from hj_reachability import dynamics\n",
        "from hj_reachability import sets\n",
        "\n",
        "class Drone2D(dynamics.ControlAndDisturbanceAffineDynamics):\n",
        "\n",
        "  def __init__(self,\n",
        "               k,\n",
        "               g=9.8,\n",
        "               u_bar=1.):\n",
        "    self.k = k\n",
        "    self.g = g\n",
        "    control_mode = 'max'\n",
        "    disturbance_mode = 'min'\n",
        "    control_space = sets.Box(jnp.array([-u_bar]), jnp.array([u_bar]))\n",
        "    disturbance_space = sets.Box(jnp.array([0.]), jnp.array([0.]))\n",
        "    super().__init__(control_mode, disturbance_mode, control_space, disturbance_space)\n",
        "\n",
        "  def open_loop_dynamics(self, state, time):\n",
        "    _, v = state\n",
        "    return jnp.array([v, -self.g])\n",
        "\n",
        "  def control_jacobian(self, state, time):\n",
        "    return jnp.array([[0.], [self.k]])\n",
        "\n",
        "  def disturbance_jacobian(self, state, time):\n",
        "    return jnp.array([[0.], [0.]])"
      ]
    },
    {
      "cell_type": "markdown",
      "metadata": {
        "id": "xTRPUHn3Q-GO"
      },
      "source": [
        "Here, we set the k values, state grid, failure function, and times that we want to compute the BRTs for.\n",
        "\n",
        "We set solver parameters as well."
      ]
    },
    {
      "cell_type": "code",
      "execution_count": 7,
      "metadata": {
        "id": "tSF8jtoxQ7fS"
      },
      "outputs": [],
      "source": [
        "# Different values of constant K that we will compute the value function for\n",
        "ks = np.linspace(6, 12, 11, endpoint=True)\n",
        "\n",
        "# Define the computation grid for numerically solving the PDE\n",
        "grid = hj.Grid.from_lattice_parameters_and_boundary_conditions(\n",
        "    hj.sets.Box(np.array([-2., -4.]),\n",
        "                np.array([+2., +4.])),\n",
        "    (51, 51))\n",
        "\n",
        "# Define the implicit function l(x) for the failure set\n",
        "failure_values = 1.5 - jnp.abs(grid.states[..., 0])\n",
        "\n",
        "# Solver settings\n",
        "times = np.linspace(0, -5, 11, endpoint=True)\n",
        "solver_settings = hj.SolverSettings.with_accuracy('very_high',\n",
        "                                                  hamiltonian_postprocessor=hj.solver.backwards_reachable_tube)"
      ]
    },
    {
      "cell_type": "markdown",
      "metadata": {
        "id": "5_uszO7JRbnW"
      },
      "source": [
        "Next, we compute the corresponding value functions."
      ]
    },
    {
      "cell_type": "code",
      "execution_count": 8,
      "metadata": {
        "colab": {
          "base_uri": "https://localhost:8080/"
        },
        "id": "ML5Vwf_wRmji",
        "outputId": "298656bb-5a78-4f69-af84-eb54fb2d076f"
      },
      "outputs": [
        {
          "name": "stderr",
          "output_type": "stream",
          "text": [
            "100%|##########|  5.0000/5.0 [00:00<00:00, 45.49sim_s/s]\n",
            "100%|##########|  5.0000/5.0 [00:00<00:00, 43.33sim_s/s]\n",
            "100%|##########|  5.0000/5.0 [00:00<00:00, 43.35sim_s/s]\n",
            "100%|##########|  5.0000/5.0 [00:00<00:00, 41.74sim_s/s]\n",
            "100%|##########|  5.0000/5.0 [00:00<00:00, 41.24sim_s/s]\n",
            "100%|##########|  5.0000/5.0 [00:00<00:00, 40.50sim_s/s]\n",
            "100%|##########|  5.0000/5.0 [00:00<00:00, 39.85sim_s/s]\n",
            "100%|##########|  5.0000/5.0 [00:00<00:00, 39.01sim_s/s]\n",
            "100%|##########|  5.0000/5.0 [00:00<00:00, 37.22sim_s/s]\n",
            "100%|##########|  5.0000/5.0 [00:00<00:00, 37.23sim_s/s]\n",
            "100%|##########|  5.0000/5.0 [00:00<00:00, 35.81sim_s/s]\n",
            "11it [00:05,  2.00it/s]\n"
          ]
        }
      ],
      "source": [
        "# Compute the value function by solving the PDE for each K\n",
        "values = np.full((len(ks), len(times), 51, 51), fill_value=np.nan)\n",
        "from tqdm import tqdm\n",
        "for i, k in tqdm(enumerate(ks)):\n",
        "  dynamics = Drone2D(k)\n",
        "  values[i] = hj.solve(solver_settings, dynamics, grid, times, failure_values)"
      ]
    },
    {
      "cell_type": "markdown",
      "metadata": {
        "id": "w0dBpvjfUeQz"
      },
      "source": [
        "Finally, we visualize the computed value functions and corresponding BRTs."
      ]
    },
    {
      "cell_type": "code",
      "execution_count": 9,
      "metadata": {
        "colab": {
          "base_uri": "https://localhost:8080/",
          "height": 628,
          "referenced_widgets": [
            "bba4252ef06a4fcb9568ee3ba1c72c0b",
            "318584f5406f44d9ac64f9f9cb29680c",
            "38ec4f0eb2124dfca0e1d7f8bda365bc",
            "0bcc94fad27247e9835ca1b0a881ab00",
            "73167913bc8d4ba99185f63fbca8c3b7",
            "3d35ea2c1b4e4d46b16e9ac6c7f00397",
            "fdcfc6cc3bd1447199e4bd1f5fde964a",
            "be7fcc79629e4c0987ab5c6f26fb5979",
            "bd7c8ea41b2c4ab6970ef92cfa76a69f",
            "851dc935f7f248599491d8c77c75135d"
          ]
        },
        "id": "1MAmF3dOU394",
        "outputId": "c9b2ef01-1fc6-4095-81ca-728bd6e47e3b"
      },
      "outputs": [
        {
          "data": {
            "application/vnd.jupyter.widget-view+json": {
              "model_id": "ce2b169a17a54cc4a82a4b16b51b6cf7",
              "version_major": 2,
              "version_minor": 0
            },
            "text/plain": [
              "interactive(children=(FloatSlider(value=12.0, description='k', max=12.0, min=6.0, step=0.6), FloatSlider(value…"
            ]
          },
          "metadata": {},
          "output_type": "display_data"
        },
        {
          "data": {
            "text/plain": [
              "<function __main__.plot_value_function(k, t)>"
            ]
          },
          "execution_count": 9,
          "metadata": {},
          "output_type": "execute_result"
        }
      ],
      "source": [
        "import matplotlib.pyplot as plt\n",
        "from ipywidgets import interact, FloatSlider\n",
        "\n",
        "vbar = 1.5\n",
        "def plot_value_function(k, t):\n",
        "  ki = np.argwhere(np.isclose(ks, k)).item()\n",
        "  ti = np.argwhere(np.isclose(times, t)).item()\n",
        "\n",
        "  plt.figure()\n",
        "  plt.title(f'$V(x, {t})$ for k={k}')\n",
        "  plt.xlabel('$v_z$ (m/s)')\n",
        "  plt.ylabel('$z$ (m)')\n",
        "\n",
        "  plt.pcolormesh(\n",
        "      grid.coordinate_vectors[1],\n",
        "      grid.coordinate_vectors[0],\n",
        "      values[ki, ti],\n",
        "      cmap='RdBu',\n",
        "      vmin=-vbar, vmax=vbar\n",
        "  )\n",
        "  plt.colorbar()\n",
        "  plt.contour(\n",
        "      grid.coordinate_vectors[1],\n",
        "      grid.coordinate_vectors[0],\n",
        "      values[ki, ti],\n",
        "      levels=0,\n",
        "      colors='k'\n",
        "  )\n",
        "  plt.contour(\n",
        "      grid.coordinate_vectors[1],\n",
        "      grid.coordinate_vectors[0],\n",
        "      failure_values,\n",
        "      levels=0,\n",
        "      colors='r'\n",
        "  )\n",
        "  plt.show()\n",
        "\n",
        "interact(\n",
        "    plot_value_function,\n",
        "    k=FloatSlider(value=12., min=6., max=12., step=0.6),\n",
        "    t=FloatSlider(value=0., min=-5., max=0., step=0.5)\n",
        ")"
      ]
    },
    {
      "cell_type": "markdown",
      "metadata": {
        "id": "GHEQY7ICtZJO"
      },
      "source": [
        "Let's simulate the (time-invariant) optimal safety controller.\n",
        "\n",
        "\\begin{align}\n",
        "u^*(x)&=\\arg\\max_{u\\in[-1, 1]}\\nabla V(x)^Tf(x,u)\\\\\n",
        "&=\\arg\\max_{u\\in[-1,1]}\\{\\beta_1(x)v_z + \\beta_2(x)(ku-g)\\}\\\\\\\n",
        "&=\\begin{cases}\n",
        "-1 & \\text{if }\\beta_2(x)k<0\\\\\n",
        "1 & \\text{otherwise},\n",
        "\\end{cases}\n",
        "\\end{align}\n",
        "where $\\nabla V(x)^T=[\\beta_1(x), \\beta_2(x)]$."
      ]
    },
    {
      "cell_type": "markdown",
      "metadata": {
        "id": "fyCKmRQOz2uK"
      },
      "source": [
        "We take the case when $k=12$."
      ]
    },
    {
      "cell_type": "code",
      "execution_count": 10,
      "metadata": {
        "id": "8Zpa9qpN0l3R"
      },
      "outputs": [],
      "source": [
        "values_k12 = values[-1, -1]\n",
        "grads_k12 = grid.grad_values(values_k12, solver_settings.upwind_scheme)\n",
        "beta2s_k12 = grads_k12[:, :, 1]\n",
        "\n",
        "from scipy.interpolate import interpn\n",
        "def optimal_safety_controller(x):\n",
        "  beta2_k12 = interpn(\n",
        "      ([np.array(v) for v in grid.coordinate_vectors]),\n",
        "      np.array(beta2s_k12),\n",
        "      x,\n",
        "      method='linear',\n",
        "      bounds_error=False,\n",
        "      fill_value=None\n",
        "  )\n",
        "  return np.sign(beta2_k12).item()"
      ]
    },
    {
      "cell_type": "markdown",
      "metadata": {
        "id": "5ukyh10d3BVI"
      },
      "source": [
        "Next, we simulate the system when $k=12$ using the discrete Euler approximation\n",
        "for 5 seconds for some starting state, under the optimal safety controller."
      ]
    },
    {
      "cell_type": "code",
      "execution_count": 11,
      "metadata": {
        "id": "TlC2y5FGt-yc"
      },
      "outputs": [],
      "source": [
        "T = 5\n",
        "dt = 0.01\n",
        "def simulate(x0):\n",
        "  nt = int(T / dt)\n",
        "  xs = np.full((nt, 2), fill_value=np.nan)\n",
        "  xs[0] = x0\n",
        "  for i in range(1, nt):\n",
        "    x = xs[i-1]\n",
        "    u = optimal_safety_controller(x)\n",
        "    xs[i] = x + dt*np.array([x[1], 12*u-9.8])\n",
        "  return xs"
      ]
    },
    {
      "cell_type": "markdown",
      "metadata": {
        "id": "IWWEx2aY4V0i"
      },
      "source": [
        "Finally, we visualize the state trajectory."
      ]
    },
    {
      "cell_type": "code",
      "execution_count": null,
      "metadata": {
        "id": "qlx6IafQ4ZUi"
      },
      "outputs": [
        {
          "data": {
            "application/vnd.jupyter.widget-view+json": {
              "model_id": "ea8c84fc05904fb59e744303998bfd16",
              "version_major": 2,
              "version_minor": 0
            },
            "text/plain": [
              "interactive(children=(FloatSlider(value=0.9, description='z', max=2.0, min=-2.0), FloatSlider(value=0.0, descr…"
            ]
          },
          "metadata": {},
          "output_type": "display_data"
        },
        {
          "data": {
            "text/plain": [
              "<function __main__.plot_trajectory(z, vz)>"
            ]
          },
          "execution_count": 12,
          "metadata": {},
          "output_type": "execute_result"
        }
      ],
      "source": [
        "def plot_trajectory(z, vz):\n",
        "  xs = simulate(np.array([z, vz]))\n",
        "  plt.figure()\n",
        "  plt.plot(xs[:, 1], xs[:, 0], linewidth=4, color='purple')\n",
        "  plt.title(f'Optimally Safe Trajectory from $z={z}$, $v_z={vz}$')\n",
        "  plt.xlabel('$v_z$ (m/s)')\n",
        "  plt.ylabel('$z$ (m)')\n",
        "  plt.pcolormesh(\n",
        "      grid.coordinate_vectors[1],\n",
        "      grid.coordinate_vectors[0],\n",
        "      values_k12,\n",
        "      cmap='RdBu',\n",
        "      vmin=-vbar, vmax=vbar\n",
        "  )\n",
        "  plt.colorbar()\n",
        "  plt.contour(\n",
        "      grid.coordinate_vectors[1],\n",
        "      grid.coordinate_vectors[0],\n",
        "      values_k12,\n",
        "      levels=0,\n",
        "      colors='k'\n",
        "  )\n",
        "  plt.contour(\n",
        "      grid.coordinate_vectors[1],\n",
        "      grid.coordinate_vectors[0],\n",
        "      failure_values,\n",
        "      levels=0,\n",
        "      colors='r'\n",
        "  )\n",
        "  plt.show()\n",
        "\n",
        "interact(\n",
        "    plot_trajectory,\n",
        "    z=FloatSlider(value=0.9, min=-2., max=2., step=0.1),\n",
        "    vz=FloatSlider(value=0., min=-4., max=4., step=0.1)\n",
        ")"
      ]
    }
  ],
  "metadata": {
    "colab": {
      "provenance": []
    },
    "kernelspec": {
      "display_name": "AA276 HW2",
      "language": "python",
      "name": "aa276-hw2"
    },
    "language_info": {
      "codemirror_mode": {
        "name": "ipython",
        "version": 3
      },
      "file_extension": ".py",
      "mimetype": "text/x-python",
      "name": "python",
      "nbconvert_exporter": "python",
      "pygments_lexer": "ipython3",
      "version": "3.9.22"
    },
    "widgets": {
      "application/vnd.jupyter.widget-state+json": {
        "0bcc94fad27247e9835ca1b0a881ab00": {
          "model_module": "@jupyter-widgets/output",
          "model_module_version": "1.0.0",
          "model_name": "OutputModel",
          "state": {
            "_dom_classes": [],
            "_model_module": "@jupyter-widgets/output",
            "_model_module_version": "1.0.0",
            "_model_name": "OutputModel",
            "_view_count": null,
            "_view_module": "@jupyter-widgets/output",
            "_view_module_version": "1.0.0",
            "_view_name": "OutputView",
            "layout": "IPY_MODEL_851dc935f7f248599491d8c77c75135d",
            "msg_id": "",
            "outputs": [
              {
                "data": {
                  "image/png": "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\n",
                  "text/plain": "<Figure size 640x480 with 2 Axes>"
                },
                "metadata": {},
                "output_type": "display_data"
              }
            ]
          }
        },
        "318584f5406f44d9ac64f9f9cb29680c": {
          "model_module": "@jupyter-widgets/controls",
          "model_module_version": "1.5.0",
          "model_name": "FloatSliderModel",
          "state": {
            "_dom_classes": [],
            "_model_module": "@jupyter-widgets/controls",
            "_model_module_version": "1.5.0",
            "_model_name": "FloatSliderModel",
            "_view_count": null,
            "_view_module": "@jupyter-widgets/controls",
            "_view_module_version": "1.5.0",
            "_view_name": "FloatSliderView",
            "continuous_update": true,
            "description": "k",
            "description_tooltip": null,
            "disabled": false,
            "layout": "IPY_MODEL_3d35ea2c1b4e4d46b16e9ac6c7f00397",
            "max": 12,
            "min": 6,
            "orientation": "horizontal",
            "readout": true,
            "readout_format": ".2f",
            "step": 0.6,
            "style": "IPY_MODEL_fdcfc6cc3bd1447199e4bd1f5fde964a",
            "value": 11.4
          }
        },
        "38ec4f0eb2124dfca0e1d7f8bda365bc": {
          "model_module": "@jupyter-widgets/controls",
          "model_module_version": "1.5.0",
          "model_name": "FloatSliderModel",
          "state": {
            "_dom_classes": [],
            "_model_module": "@jupyter-widgets/controls",
            "_model_module_version": "1.5.0",
            "_model_name": "FloatSliderModel",
            "_view_count": null,
            "_view_module": "@jupyter-widgets/controls",
            "_view_module_version": "1.5.0",
            "_view_name": "FloatSliderView",
            "continuous_update": true,
            "description": "t",
            "description_tooltip": null,
            "disabled": false,
            "layout": "IPY_MODEL_be7fcc79629e4c0987ab5c6f26fb5979",
            "max": 0,
            "min": -5,
            "orientation": "horizontal",
            "readout": true,
            "readout_format": ".2f",
            "step": 0.5,
            "style": "IPY_MODEL_bd7c8ea41b2c4ab6970ef92cfa76a69f",
            "value": -5
          }
        },
        "3d35ea2c1b4e4d46b16e9ac6c7f00397": {
          "model_module": "@jupyter-widgets/base",
          "model_module_version": "1.2.0",
          "model_name": "LayoutModel",
          "state": {
            "_model_module": "@jupyter-widgets/base",
            "_model_module_version": "1.2.0",
            "_model_name": "LayoutModel",
            "_view_count": null,
            "_view_module": "@jupyter-widgets/base",
            "_view_module_version": "1.2.0",
            "_view_name": "LayoutView",
            "align_content": null,
            "align_items": null,
            "align_self": null,
            "border": null,
            "bottom": null,
            "display": null,
            "flex": null,
            "flex_flow": null,
            "grid_area": null,
            "grid_auto_columns": null,
            "grid_auto_flow": null,
            "grid_auto_rows": null,
            "grid_column": null,
            "grid_gap": null,
            "grid_row": null,
            "grid_template_areas": null,
            "grid_template_columns": null,
            "grid_template_rows": null,
            "height": null,
            "justify_content": null,
            "justify_items": null,
            "left": null,
            "margin": null,
            "max_height": null,
            "max_width": null,
            "min_height": null,
            "min_width": null,
            "object_fit": null,
            "object_position": null,
            "order": null,
            "overflow": null,
            "overflow_x": null,
            "overflow_y": null,
            "padding": null,
            "right": null,
            "top": null,
            "visibility": null,
            "width": null
          }
        },
        "73167913bc8d4ba99185f63fbca8c3b7": {
          "model_module": "@jupyter-widgets/base",
          "model_module_version": "1.2.0",
          "model_name": "LayoutModel",
          "state": {
            "_model_module": "@jupyter-widgets/base",
            "_model_module_version": "1.2.0",
            "_model_name": "LayoutModel",
            "_view_count": null,
            "_view_module": "@jupyter-widgets/base",
            "_view_module_version": "1.2.0",
            "_view_name": "LayoutView",
            "align_content": null,
            "align_items": null,
            "align_self": null,
            "border": null,
            "bottom": null,
            "display": null,
            "flex": null,
            "flex_flow": null,
            "grid_area": null,
            "grid_auto_columns": null,
            "grid_auto_flow": null,
            "grid_auto_rows": null,
            "grid_column": null,
            "grid_gap": null,
            "grid_row": null,
            "grid_template_areas": null,
            "grid_template_columns": null,
            "grid_template_rows": null,
            "height": null,
            "justify_content": null,
            "justify_items": null,
            "left": null,
            "margin": null,
            "max_height": null,
            "max_width": null,
            "min_height": null,
            "min_width": null,
            "object_fit": null,
            "object_position": null,
            "order": null,
            "overflow": null,
            "overflow_x": null,
            "overflow_y": null,
            "padding": null,
            "right": null,
            "top": null,
            "visibility": null,
            "width": null
          }
        },
        "851dc935f7f248599491d8c77c75135d": {
          "model_module": "@jupyter-widgets/base",
          "model_module_version": "1.2.0",
          "model_name": "LayoutModel",
          "state": {
            "_model_module": "@jupyter-widgets/base",
            "_model_module_version": "1.2.0",
            "_model_name": "LayoutModel",
            "_view_count": null,
            "_view_module": "@jupyter-widgets/base",
            "_view_module_version": "1.2.0",
            "_view_name": "LayoutView",
            "align_content": null,
            "align_items": null,
            "align_self": null,
            "border": null,
            "bottom": null,
            "display": null,
            "flex": null,
            "flex_flow": null,
            "grid_area": null,
            "grid_auto_columns": null,
            "grid_auto_flow": null,
            "grid_auto_rows": null,
            "grid_column": null,
            "grid_gap": null,
            "grid_row": null,
            "grid_template_areas": null,
            "grid_template_columns": null,
            "grid_template_rows": null,
            "height": null,
            "justify_content": null,
            "justify_items": null,
            "left": null,
            "margin": null,
            "max_height": null,
            "max_width": null,
            "min_height": null,
            "min_width": null,
            "object_fit": null,
            "object_position": null,
            "order": null,
            "overflow": null,
            "overflow_x": null,
            "overflow_y": null,
            "padding": null,
            "right": null,
            "top": null,
            "visibility": null,
            "width": null
          }
        },
        "bba4252ef06a4fcb9568ee3ba1c72c0b": {
          "model_module": "@jupyter-widgets/controls",
          "model_module_version": "1.5.0",
          "model_name": "VBoxModel",
          "state": {
            "_dom_classes": [
              "widget-interact"
            ],
            "_model_module": "@jupyter-widgets/controls",
            "_model_module_version": "1.5.0",
            "_model_name": "VBoxModel",
            "_view_count": null,
            "_view_module": "@jupyter-widgets/controls",
            "_view_module_version": "1.5.0",
            "_view_name": "VBoxView",
            "box_style": "",
            "children": [
              "IPY_MODEL_318584f5406f44d9ac64f9f9cb29680c",
              "IPY_MODEL_38ec4f0eb2124dfca0e1d7f8bda365bc",
              "IPY_MODEL_0bcc94fad27247e9835ca1b0a881ab00"
            ],
            "layout": "IPY_MODEL_73167913bc8d4ba99185f63fbca8c3b7"
          }
        },
        "bd7c8ea41b2c4ab6970ef92cfa76a69f": {
          "model_module": "@jupyter-widgets/controls",
          "model_module_version": "1.5.0",
          "model_name": "SliderStyleModel",
          "state": {
            "_model_module": "@jupyter-widgets/controls",
            "_model_module_version": "1.5.0",
            "_model_name": "SliderStyleModel",
            "_view_count": null,
            "_view_module": "@jupyter-widgets/base",
            "_view_module_version": "1.2.0",
            "_view_name": "StyleView",
            "description_width": "",
            "handle_color": null
          }
        },
        "be7fcc79629e4c0987ab5c6f26fb5979": {
          "model_module": "@jupyter-widgets/base",
          "model_module_version": "1.2.0",
          "model_name": "LayoutModel",
          "state": {
            "_model_module": "@jupyter-widgets/base",
            "_model_module_version": "1.2.0",
            "_model_name": "LayoutModel",
            "_view_count": null,
            "_view_module": "@jupyter-widgets/base",
            "_view_module_version": "1.2.0",
            "_view_name": "LayoutView",
            "align_content": null,
            "align_items": null,
            "align_self": null,
            "border": null,
            "bottom": null,
            "display": null,
            "flex": null,
            "flex_flow": null,
            "grid_area": null,
            "grid_auto_columns": null,
            "grid_auto_flow": null,
            "grid_auto_rows": null,
            "grid_column": null,
            "grid_gap": null,
            "grid_row": null,
            "grid_template_areas": null,
            "grid_template_columns": null,
            "grid_template_rows": null,
            "height": null,
            "justify_content": null,
            "justify_items": null,
            "left": null,
            "margin": null,
            "max_height": null,
            "max_width": null,
            "min_height": null,
            "min_width": null,
            "object_fit": null,
            "object_position": null,
            "order": null,
            "overflow": null,
            "overflow_x": null,
            "overflow_y": null,
            "padding": null,
            "right": null,
            "top": null,
            "visibility": null,
            "width": null
          }
        },
        "fdcfc6cc3bd1447199e4bd1f5fde964a": {
          "model_module": "@jupyter-widgets/controls",
          "model_module_version": "1.5.0",
          "model_name": "SliderStyleModel",
          "state": {
            "_model_module": "@jupyter-widgets/controls",
            "_model_module_version": "1.5.0",
            "_model_name": "SliderStyleModel",
            "_view_count": null,
            "_view_module": "@jupyter-widgets/base",
            "_view_module_version": "1.2.0",
            "_view_name": "StyleView",
            "description_width": "",
            "handle_color": null
          }
        }
      }
    }
  },
  "nbformat": 4,
  "nbformat_minor": 0
}
